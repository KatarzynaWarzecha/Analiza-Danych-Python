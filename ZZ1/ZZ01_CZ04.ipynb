{
 "cells": [
  {
   "cell_type": "markdown",
   "id": "686d167a",
   "metadata": {
    "deletable": false,
    "editable": false,
    "nbgrader": {
     "cell_type": "markdown",
     "checksum": "4d87ed846e09cbf1c8eae4e0f16bea9b",
     "grade": false,
     "grade_id": "cell-fcd2666579131b77",
     "locked": true,
     "schema_version": 3,
     "solution": false,
     "task": false
    },
    "tags": []
   },
   "source": [
    "##### Analiza danych w języku Python - ćwiczenia laboratoryjne 2022/2023\n",
    "\n",
    "Ten notatnik zalicza się do grupy zestawów zadań, na podstawie których odbywa się zaliczenie ćwiczeń i podlega zwrotowi do oceny w ustalonym na zajęciach terminie.\n",
    "\n",
    "Uwagi i wytyczne ogólne dotyczące uzupełniania i oceny notatnika:\n",
    "- Podczas wykonywania zadań należy korzystać wyłącznie z pakietów zaimportowanych na początku notatnika oraz z pakietów wchodzących w skład standardowej biblioteki Pythona, które można zaimportować samodzielnie we wskazanej komórce notatnika.\n",
    "- Swoje rozwiązania należy wprowadzać wyłącznie w miejce następujących fragmentów kodu:<br/> `# YOUR CODE HERE`<br/> `raise NotImplementedError()`<br/> \n",
    "a odpowiedzi tekstowe w komórkach oznaczonych hasłem:<br/> \n",
    "`YOUR ANSWER HERE`<br/> \n",
    "Nie należy w żaden sposób modyfikować pozostałych fragmentów kodu oraz innych elementów notatnika, w szczególności dodawać lub usuwać komórek oraz zmieniać nazwy pliku.\n",
    "- Jeżeli zestaw zadań wymaga skorzystania z fragmentów kodu opracowanego w ramach wcześniejszych zestawów zadań należy je umieścić we wskazanej komórce notatnika.\n",
    "- Otrzymywane wyniki i odpowiedzi mają być rezultatem wykonania napisanego kodu, odpowiedzi uzupełniane manualnie nie podlegają ocenie.\n",
    "- Zadanie należy wykonać w taki sposób, aby podczas wykonywania kodu nie zostały wyświetlone żadne ostrzeżenia.\n",
    "- Zawarte w notatniku automatyczne testy mają charakter poglądowy. Dotyczą one wybranych aspektów zadań i mają za zadanie wyłapać podstawowe błędy. Przejście wszystkich testów nie oznacza, że zadanie jest wykonane w całości poprawnie i zostanie ocenione na maksymalną liczbę punktów.\n",
    "- Zadania, które powodują wyświetlenie komunikatu o błędzie przerywającym wykonywanie kodu nie podlegają ocenie.\n",
    "\n",
    "Uwagi i wytyczne ogólne dotyczące wizualizacji wyników:\n",
    "- Wszystkie wykresy powinny być wykonane w jednolitym, przejrzystym i czytelnym stylu, posiadać odpowiednio dobrane proporcje i zakresy wartości osi.\n",
    "- Wykresy oraz ich osie powinny mieć nadane tytuły. Jeżeli w obrębie figury znajduje się więcej niż jeden wykres to figura również powinna mieć nadany tytuł. \n",
    "- Figury powinny mieć ustawione białe tło, tak, aby niezależnie od ustawień notatnika wszystkie elementy wykresów były dobrze widoczne (domyślnie tło jest przeźroczyste co może powodować problemy w notatnikach z ustawionym ciemnym tłem).\n",
    "- Rozmiar poziomy figur nie powinien przekraczać 20 cali.\n",
    "\n",
    "Przed odesłaniem zestawu zadań do oceny proszę uzupełnić komórkę z danymi autorów rozwiązania (`NAME` - nazwa zespołu, `COLLABORATORS` - imiona, nazwiska i numery indeksów członków zespołu) oraz upewnić się, że notatnik działa zgodnie z oczekiwaniami. W tym celu należy skorzystać z opcji **Restart Kernel and Run All Cells...** dostępnej na górnej belce notatnika pod symbolem $\\blacktriangleright\\blacktriangleright$."
   ]
  },
  {
   "cell_type": "code",
   "execution_count": 1,
   "id": "5f40b0ed",
   "metadata": {},
   "outputs": [],
   "source": [
    "NAME = \"IAD33\"\n",
    "COLLABORATORS = \"Katarzyna Warzecha 407430 Zuzanna Stachura 405235\""
   ]
  },
  {
   "cell_type": "markdown",
   "id": "340a7734",
   "metadata": {
    "deletable": false,
    "editable": false,
    "nbgrader": {
     "cell_type": "markdown",
     "checksum": "eddc8826810e4a6f7bf68319da334bd9",
     "grade": false,
     "grade_id": "cell-109006d425e5cf83",
     "locked": true,
     "schema_version": 3,
     "solution": false,
     "task": false
    },
    "tags": []
   },
   "source": [
    "---"
   ]
  },
  {
   "cell_type": "markdown",
   "id": "3dc8b5f1-8b22-4781-876f-27826679533d",
   "metadata": {
    "deletable": false,
    "editable": false,
    "nbgrader": {
     "cell_type": "markdown",
     "checksum": "a068a28968a6b3cff36875b86660282b",
     "grade": false,
     "grade_id": "cell-a12f05a1065ccf65",
     "locked": true,
     "schema_version": 3,
     "solution": false,
     "task": false
    },
    "tags": []
   },
   "source": [
    "## Zestaw zadań 1: Elementy statystyki opisowej 1 (Notatnik 4/4)"
   ]
  },
  {
   "cell_type": "code",
   "execution_count": 2,
   "id": "a0f0ba49-958b-41f6-befc-cf77d7364345",
   "metadata": {
    "deletable": false,
    "editable": false,
    "nbgrader": {
     "cell_type": "code",
     "checksum": "9c1f9f1a79efb2ea5cdbaa8129434777",
     "grade": false,
     "grade_id": "cell-50608d099c9a113d",
     "locked": true,
     "schema_version": 3,
     "solution": false,
     "task": false
    },
    "tags": []
   },
   "outputs": [],
   "source": [
    "import numpy as np\n",
    "import pandas as pd\n",
    "import scipy as sp\n",
    "import matplotlib as mpl\n",
    "import matplotlib.pyplot as plt\n",
    "import seaborn as sns\n",
    "import dataframe_image as dfi"
   ]
  },
  {
   "cell_type": "code",
   "execution_count": 3,
   "id": "3afcbcf4-e4a1-4435-a432-bbc51129910d",
   "metadata": {
    "tags": []
   },
   "outputs": [],
   "source": [
    "# Miejsce do importu pakietów wchodzących w skład standardowej biblioteki Pythona oraz ustawienie opcji wykorzystywanych pakietów"
   ]
  },
  {
   "cell_type": "markdown",
   "id": "73cb2852-79f3-4f76-9303-a091a9be7623",
   "metadata": {
    "deletable": false,
    "editable": false,
    "nbgrader": {
     "cell_type": "markdown",
     "checksum": "b5e6796769736a19e74da254f5f66dc4",
     "grade": false,
     "grade_id": "cell-7e0c91af7d9408af",
     "locked": true,
     "schema_version": 3,
     "solution": false,
     "task": false
    },
    "tags": []
   },
   "source": [
    "### Zadanie 7: Analiza wyników [13 pkt]\n",
    "Scharakteryzuj wulkanizm ziemski na podstawie wyników analizy przeprowadzonej we wcześniejszych zadaniach zgodnie z poniższymi wytycznymi:\n",
    "- Umieść treść analizy w pojedynczej komórce Markdown. Oprócz tekstu wklej do niej wszystkie wykresy i tablice, do których odnosi się analiza.\n",
    "- W analizie oprzyj się przede wszystkim o tablice i grafiki przygotowane w ramach zadań 4-6 (niezbędne minimum).\n",
    "- Nie ograniczaj się wyłącznie do stwierdzeń typu \"zostało zarejestrowanych więcej erupcji o wartości VEI 6 niż 7\", tam gdzie to możliwe spróbuj wyciągnąć szersze, dalej idące wnioski o badanym zjawisku.\n",
    "- Wskaż problemy w analizie przeprowadzonej w ramach wykonanych wcześniej zadań i zaproponuj jakie zmiany należy do niej wprowadzić w celu ich rozwiązania.\n",
    "- Jeżeli widzisz taką potrzebę możesz wygenerować dodatkowe tablice i grafiki, w takim przypadku generujący je kod powinien zostać umieszczony w komórce poprzedzającej komórkę z treścią analizy.\n",
    "\n",
    "Wskazówki dotyczące pozyskiwania i wklejania grafik do komórki markdown:\n",
    "- przygotowane wykresy można zapisać do plików za pomocą kodu: `fig.savefig('image.png')`, gdzie `fig` to zmienna zawierająca wykres przygotowany z wykorzystaniem `plt.subplots()`, a `'image.png'` to nazwa pliku, do którego ma zostać zapisana.\n",
    "- przygotowane tablice można zapisać do plików za pomocą kodu: `dfi.export(styled_df, 'df.png')`, gdzie `styled_df` to zmienna zawierająca odpowiednio sformatowaną tablicę, a `'df.png'` to nazwa pliku, do którego ma zostać zapisana.\n",
    "- zapisane do plików grafiki można wklejać do komórki markdown za pomocą następującej formuły: `![](table.png)`, gdzie `table.png` to nazwa pliku, do którego ma zostać wstawiony do komórki.\n",
    "\n",
    "Po wygenerowaniu plików z grafikami nie należy uzuwać z notatników kodu wykorzystanego podczas ich przygotowywania, w tym formuł `fig.savefig()` i `dfi.export()`."
   ]
  },
  {
   "cell_type": "code",
   "execution_count": 4,
   "id": "e789ed69-15b2-4b3e-8ff0-41e7137b6f60",
   "metadata": {
    "tags": []
   },
   "outputs": [],
   "source": [
    "# Miejsce na dodatkowy kod\n",
    "eruptions_data = pd.read_csv('eruption_data.csv')\n",
    "eruptions_data = eruptions_data.set_index('Eruption Number')\n",
    "eruptions_data\n",
    "vei_data_1 = pd.DataFrame({'VEI':eruptions_data['VEI'].unique()})\n",
    "vei_data_1 = vei_data_1.reset_index(drop=True)\n",
    "vei_data_1 = vei_data_1.sort_values('VEI')\n",
    "vei_data_1 = vei_data_1.reset_index(drop=True)\n",
    "vei_data_1 = vei_data_1.set_index('VEI')\n",
    "vei_data_1['f'] = eruptions_data['VEI'].value_counts().to_frame()\n",
    "vei_data_1['cf'] = vei_data_1['f'].cumsum()\n",
    "vei_data_1['rf'] =vei_data_1['f']/sum(vei_data_1['f'])\n",
    "vei_data_1['crf'] = vei_data_1['rf'].cumsum()\n",
    "vei_data_1['rf'] = vei_data_1['rf'].round(decimals=4)\n",
    "vei_data_1['crf'] = vei_data_1['crf'].round(decimals=4)\n",
    "vei_data_2 = eruptions_data.loc[eruptions_data['Eruption Category'] == 'Confirmed','VEI'].value_counts().to_frame()\n",
    "vei_data_2 = vei_data_2.sort_index()\n",
    "vei_data_2 = vei_data_2.reset_index(drop=True)\n",
    "vei_data_2.columns = ['f']\n",
    "vei_data_2.index.name = 'VEI'\n",
    "vei_data_2['cf'] = vei_data_2['f'].cumsum()\n",
    "vei_data_2['rf'] =vei_data_2['f']/sum(vei_data_2['f'])\n",
    "vei_data_2['crf'] = vei_data_2['rf'].cumsum()\n",
    "vei_data_2['rf'] = vei_data_2['rf'].round(decimals=4)\n",
    "vei_data_2['crf'] = vei_data_2['crf'].round(decimals=4)\n",
    "vei_data_3 = eruptions_data.loc[eruptions_data['Eruption Category'] == 'Uncertain','VEI'].value_counts().to_frame()\n",
    "vei_data_3 = vei_data_3.sort_index()\n",
    "vei_data_3 = vei_data_3.reset_index(drop=True)\n",
    "vei_data_3.columns = ['f']\n",
    "vei_data_3.index.name = 'VEI'\n",
    "vei_data_3['cf'] = vei_data_3['f'].cumsum()\n",
    "vei_data_3['rf'] =vei_data_3['f']/sum(vei_data_3['f'])\n",
    "vei_data_3['crf'] = vei_data_3['rf'].cumsum()\n",
    "vei_data_3['rf'] = vei_data_3['rf'].round(decimals=4)\n",
    "vei_data_3['crf'] = vei_data_3['crf'].round(decimals=4)\n",
    "vei_data = pd.concat([vei_data_1, vei_data_2,vei_data_3], keys=['All eruptions', 'Confirmed Eruptions','Uncertain Eruptions'], axis=1)\n",
    "vei_data.index = vei_data.index.astype(np.int64)\n",
    "\n",
    "evidence_data = eruptions_data.groupby(['Evidence Type', 'Evidence Method', 'VEI']).size().unstack(fill_value=0)\n",
    "evidence_data['All'] = eruptions_data.groupby(['Evidence Type', 'Evidence Method']).size()\n",
    "evidence_data\n",
    "\n",
    "# Dodatkowe tabele\n",
    "new = vei_data['All eruptions']\n",
    "dfi.export(new,'new.png')\n",
    "new2 = vei_data.loc[5:7,:]\n",
    "dfi.export(new2,'new2.png')\n",
    "new3 = vei_data['Confirmed Eruptions']['f']/vei_data['All eruptions']['f'] *100\n",
    "new3 = pd.DataFrame({'Procent potwierdzonych erupcji [%]':new3})\n",
    "dfi.export(new3,'new3.png')\n",
    "\n",
    "new4 = pd.DataFrame({'Procent wszystkich erupcji [%]':evidence_data['All'] / sum(evidence_data['All']) * 100})\n",
    "new4\n",
    "dd = evidence_data.reset_index(level=[1])\n",
    "dd=dd[['Evidence Method','All']]\n",
    "dd['Procent wszystkich erupcji [%]']=dd['All'] / sum(dd['All']) * 100\n",
    "dd=dd[['Evidence Method','Procent wszystkich erupcji [%]']]\n",
    "dd = dd.set_index('Evidence Method')\n",
    "dd.columns.name = None\n",
    "dd=dd.reset_index()\n",
    "dd\n",
    "#dfi.export(new4,'new4.png')\n",
    "\n",
    "metoda= evidence_data.idxmax()\n",
    "#new6 = evidence_data.loc[ evidence_data[0.0].idxmax()]\n",
    "ilosc = evidence_data.max()\n",
    "new5 = pd.DataFrame({'Najczęściej stosowana metoda weryfikacji':metoda,'Ilość weryfikacji':ilosc})\n",
    "new5\n",
    "dfi.export(new5,'new5.png')\n",
    "\n",
    "new6 = evidence_data.loc[ evidence_data['All'] ==evidence_data['All'].min(),'All']\n",
    "new6 = pd.DataFrame({'Ilość weryfikacji':new6})\n",
    "new6\n",
    "dfi.export(new6,'new6.png')\n",
    "\n",
    "#Punkt 7\n",
    "isotopicYears = eruptions_data.loc[eruptions_data['Evidence Type'] == 'Isotopic','Start Year'].unique()\n",
    "sumIsotopicYears = sum(eruptions_data.loc[eruptions_data['Evidence Type'] == 'Isotopic','Start Year'].unique()<0)\n",
    "#len(eruptions_data.loc[eruptions_data['Evidence Type'] == 'Isotopic','Start Year'].unique())\n",
    "\n",
    "\n",
    "#Punkt 8\n",
    "eruptionsAfter2000 = eruptions_data.loc[eruptions_data['Start Year']>=2000,['Evidence Type','Start Year']]\n",
    "countEruptionsAfter2000 = eruptionsAfter2000['Evidence Type'].value_counts()\n",
    "confirmedEruptionsAfter2000 = eruptions_data.loc[(eruptions_data['Start Year']>=2000) & (eruptions_data['Eruption Category']=='Confirmed'),['Evidence Type','Start Year']]\n",
    "countConfirmedEruptionsAfter2000 = confirmedEruptionsAfter2000['Evidence Type'].value_counts()\n"
   ]
  },
  {
   "cell_type": "markdown",
   "id": "79045acb-3c92-4e3e-a418-d020c5375d69",
   "metadata": {
    "deletable": false,
    "nbgrader": {
     "cell_type": "markdown",
     "checksum": "a9cd4b09ab5139fd50e3b90a537a35a2",
     "grade": true,
     "grade_id": "cell-152c404baa500092",
     "locked": false,
     "points": 13,
     "schema_version": 3,
     "solution": true,
     "task": false
    },
    "tags": []
   },
   "source": [
    "###  Wulkanizm ziemski\n",
    "W ramach wcześniejszych zadań, udało nam się przeanalizować dane dotyczące wulkanizmu ziemskiego:\n",
    "1) Na 8285 wszystkich erupcji, blisko 50% (48,17%) stanowiły takie o Indeksie Eksplozywności Wulkanicznej równym 2, czyli stosunkowo niskim. </br>\n",
    "![](new.png)\n",
    "2) Eksplozje o Indeksie Eksplozywności Wulkanicznej (VEI) równym 5,6 lub 7 dla Erupcji niepotwierdzonych mają wartość NaN - oznacza to, że w każdym przypadku są potwierdzone. Można wywnioskować, że pozostawiły po sobie widoczne lub dalego sięgające efekty, które potwierdziłyby ich wystąpienie. </br>\n",
    "![](new2.png) \n",
    "3) Wraz ze wzrostem Indeksu Eksplozywności Wulkanicznej, wzrasta procent Potwierdzonych Erupcji w stosunku do Wszystkich Erupcji </br>\n",
    "![](new3.png) \n",
    "4) Najwięcej erupcji zostało potwierdzone przy użyciu 'Obserwacji' i zostały 'Zgłoszone' (Reported). Stanowią one ponad 73% wszystkich erupcji. \n",
    "5) Erupcje o Indeksach Eksplozywności Wulkanicznej (VEI) równych 0,1,2,3 oraz 4 najczęściej zostały potwierdzane przez 'Zgłoszenie' (Reported). Natomiast dla najwyższych wartości 5,6 oraz 7, to metoda 14C(skalibrowana) z kategorii Izotopowej była najczęściej stosowana.</br>dla VEI równego 5 - metoda Izotopowa 14C(skalibrowana) (70 na 180) , </br> dla VEI równego 6 - metoda Izotopowa 14C(skalibrowana) (21 na 53), </br>dla VEI równego 7 - metoda Izotopowa 14C(skalibrowana) (3 na 7) </br>\n",
    "![](new5.png)\n",
    "6) Najmniej stosowanymi metodami weryfikacji erupcji były metody: 'Aviation' z kategorii 'Observations' oraz 'Fission Track' z kategorii 'Radiogenic' </br>\n",
    "![](new6.png)\n",
    "7) Weryfikację metodą Izotopową zastosowano najczęściej do erupcji, które wydarzyły się przed naszą erą. Tą metodą potwierdzono 496 przypadków, z czego 334 miało swój początek p.n.e. </br>\n",
    "![](image.png)\n",
    "8) W XXI wieku do weryfikacji erupcji najczęściej stosuje się 'Obserwację'. Na 895 przypadków erupcji potwierdzonych lub niepotwierdzonych po 2000 roku, zastosowano metody z tej kategorii do 841. </br>Natomiast w przypadku tylko potwierdzonych erupcji po tym roku, wszystkie zostały zweryfikowane metodami z kategorii 'Obserwacji' (820 przypadków)."
   ]
  }
 ],
 "metadata": {
  "kernelspec": {
   "display_name": "Python 3 (ipykernel)",
   "language": "python",
   "name": "python3"
  },
  "language_info": {
   "codemirror_mode": {
    "name": "ipython",
    "version": 3
   },
   "file_extension": ".py",
   "mimetype": "text/x-python",
   "name": "python",
   "nbconvert_exporter": "python",
   "pygments_lexer": "ipython3",
   "version": "3.10.8"
  }
 },
 "nbformat": 4,
 "nbformat_minor": 5
}
